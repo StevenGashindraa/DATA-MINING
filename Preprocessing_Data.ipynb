{
  "nbformat": 4,
  "nbformat_minor": 0,
  "metadata": {
    "colab": {
      "name": "Preprocessing Data.ipynb",
      "provenance": [],
      "collapsed_sections": []
    },
    "kernelspec": {
      "name": "python3",
      "display_name": "Python 3"
    },
    "language_info": {
      "name": "python"
    }
  },
  "cells": [
    {
      "cell_type": "code",
      "metadata": {
        "id": "sa4SwkmY-izH"
      },
      "source": [
        "import numpy as np\n",
        "import matplotlib.pyplot as plt\n",
        "import pandas as pd"
      ],
      "execution_count": 39,
      "outputs": []
    },
    {
      "cell_type": "markdown",
      "metadata": {
        "id": "cvw12nxhJeiY"
      },
      "source": [
        "Numpy merupakan library python digunakan untuk komputasi matriks.\n",
        "Matlotlib merupakan library python untuk presentasi data berupa grafik atau plot"
      ]
    },
    {
      "cell_type": "code",
      "metadata": {
        "id": "levqZrK8Jt84"
      },
      "source": [
        "dataset = pd.read_csv('Data.csv')\n",
        "x = dataset.iloc[:, :-1].values\n",
        "y = dataset.iloc[:, -1].values"
      ],
      "execution_count": 40,
      "outputs": []
    },
    {
      "cell_type": "code",
      "metadata": {
        "colab": {
          "base_uri": "https://localhost:8080/"
        },
        "id": "Z3T95MxbKSyn",
        "outputId": "fd2ab966-2f70-441a-d707-0b9e2650e72a"
      },
      "source": [
        "print(x)"
      ],
      "execution_count": 41,
      "outputs": [
        {
          "output_type": "stream",
          "text": [
            "[['Korea' 44.0 72000.0]\n",
            " ['Taiwan' 27.0 48000.0]\n",
            " ['Hongkong' 30.0 54000.0]\n",
            " ['Taiwan' 38.0 61000.0]\n",
            " ['Hongkong' 40.0 nan]\n",
            " ['Korea' 35.0 58000.0]\n",
            " ['Taiwan' 48.0 52000.0]\n",
            " ['Korea' nan 79000.0]\n",
            " ['Hongkong' 50.0 83000.0]\n",
            " ['Korea' 37.0 67000.0]]\n"
          ],
          "name": "stdout"
        }
      ]
    },
    {
      "cell_type": "code",
      "metadata": {
        "colab": {
          "base_uri": "https://localhost:8080/"
        },
        "id": "ZZawNlt_MYro",
        "outputId": "f22628f4-1087-4bdf-f0b2-508470bb72f6"
      },
      "source": [
        "print(y)"
      ],
      "execution_count": 42,
      "outputs": [
        {
          "output_type": "stream",
          "text": [
            "['No' 'Yes' 'No' 'No' 'Yes' 'Yes' 'No' 'Yes' 'No' 'Yes']\n"
          ],
          "name": "stdout"
        }
      ]
    },
    {
      "cell_type": "code",
      "metadata": {
        "id": "CNhIohmNMklz"
      },
      "source": [
        "from sklearn.impute import SimpleImputer\n",
        "imputer = SimpleImputer(missing_values=np.nan, strategy='mean')\n",
        "imputer.fit(x[:, 1:3])\n",
        "x[:, 1:3] = imputer.transform(x[:, 1:3])"
      ],
      "execution_count": 43,
      "outputs": []
    },
    {
      "cell_type": "code",
      "metadata": {
        "colab": {
          "base_uri": "https://localhost:8080/"
        },
        "id": "BAI8_3VgNUBY",
        "outputId": "9e361ba1-0b64-423f-dd0e-464a7a904e67"
      },
      "source": [
        "print(x)"
      ],
      "execution_count": 44,
      "outputs": [
        {
          "output_type": "stream",
          "text": [
            "[['Korea' 44.0 72000.0]\n",
            " ['Taiwan' 27.0 48000.0]\n",
            " ['Hongkong' 30.0 54000.0]\n",
            " ['Taiwan' 38.0 61000.0]\n",
            " ['Hongkong' 40.0 63777.77777777778]\n",
            " ['Korea' 35.0 58000.0]\n",
            " ['Taiwan' 48.0 52000.0]\n",
            " ['Korea' 38.77777777777778 79000.0]\n",
            " ['Hongkong' 50.0 83000.0]\n",
            " ['Korea' 37.0 67000.0]]\n"
          ],
          "name": "stdout"
        }
      ]
    },
    {
      "cell_type": "code",
      "metadata": {
        "id": "ppBTL4_-NilX"
      },
      "source": [
        "from sklearn.compose import ColumnTransformer\n",
        "from sklearn.preprocessing import OneHotEncoder\n",
        "ct = ColumnTransformer(transformers=[('encoder', OneHotEncoder(), [0])], remainder='passthrough')\n",
        "x = np.array(ct.fit_transform(x))"
      ],
      "execution_count": 45,
      "outputs": []
    },
    {
      "cell_type": "code",
      "metadata": {
        "colab": {
          "base_uri": "https://localhost:8080/"
        },
        "id": "q8D7pwghPILg",
        "outputId": "adb5537b-42d7-4f4e-eb6d-ce415e9f3f97"
      },
      "source": [
        "print(x)"
      ],
      "execution_count": 46,
      "outputs": [
        {
          "output_type": "stream",
          "text": [
            "[[0.0 1.0 0.0 44.0 72000.0]\n",
            " [0.0 0.0 1.0 27.0 48000.0]\n",
            " [1.0 0.0 0.0 30.0 54000.0]\n",
            " [0.0 0.0 1.0 38.0 61000.0]\n",
            " [1.0 0.0 0.0 40.0 63777.77777777778]\n",
            " [0.0 1.0 0.0 35.0 58000.0]\n",
            " [0.0 0.0 1.0 48.0 52000.0]\n",
            " [0.0 1.0 0.0 38.77777777777778 79000.0]\n",
            " [1.0 0.0 0.0 50.0 83000.0]\n",
            " [0.0 1.0 0.0 37.0 67000.0]]\n"
          ],
          "name": "stdout"
        }
      ]
    },
    {
      "cell_type": "code",
      "metadata": {
        "id": "ewiTBkhwPXJo"
      },
      "source": [
        "from sklearn.preprocessing import LabelEncoder\n",
        "le = LabelEncoder()\n",
        "y = le.fit_transform(y)"
      ],
      "execution_count": 47,
      "outputs": []
    },
    {
      "cell_type": "code",
      "metadata": {
        "colab": {
          "base_uri": "https://localhost:8080/"
        },
        "id": "VawyLxJoPn4y",
        "outputId": "ab2c58d1-825a-42c0-c094-3447950c64e4"
      },
      "source": [
        "print(y)"
      ],
      "execution_count": 48,
      "outputs": [
        {
          "output_type": "stream",
          "text": [
            "[0 1 0 0 1 1 0 1 0 1]\n"
          ],
          "name": "stdout"
        }
      ]
    },
    {
      "cell_type": "code",
      "metadata": {
        "id": "iCPeBiQvTp0u"
      },
      "source": [
        "from sklearn.model_selection import train_test_split\n",
        "x_train, x_test, y_train, y_test = train_test_split(x, y, test_size=0.2, random_state=1)"
      ],
      "execution_count": 49,
      "outputs": []
    },
    {
      "cell_type": "code",
      "metadata": {
        "colab": {
          "base_uri": "https://localhost:8080/"
        },
        "id": "nHL5aB8NUR97",
        "outputId": "1dd1172b-3e3c-4dfa-c9a5-2eb738889721"
      },
      "source": [
        "print(x_train)"
      ],
      "execution_count": 50,
      "outputs": [
        {
          "output_type": "stream",
          "text": [
            "[[0.0 0.0 1.0 48.0 52000.0]\n",
            " [1.0 0.0 0.0 40.0 63777.77777777778]\n",
            " [0.0 1.0 0.0 44.0 72000.0]\n",
            " [0.0 0.0 1.0 38.0 61000.0]\n",
            " [0.0 0.0 1.0 27.0 48000.0]\n",
            " [0.0 1.0 0.0 38.77777777777778 79000.0]\n",
            " [1.0 0.0 0.0 50.0 83000.0]\n",
            " [0.0 1.0 0.0 35.0 58000.0]]\n"
          ],
          "name": "stdout"
        }
      ]
    },
    {
      "cell_type": "code",
      "metadata": {
        "colab": {
          "base_uri": "https://localhost:8080/"
        },
        "id": "1QHXJErlUf3x",
        "outputId": "d82ba1fd-0f69-4792-812e-3098c0495b38"
      },
      "source": [
        "print(x_test)"
      ],
      "execution_count": 51,
      "outputs": [
        {
          "output_type": "stream",
          "text": [
            "[[1.0 0.0 0.0 30.0 54000.0]\n",
            " [0.0 1.0 0.0 37.0 67000.0]]\n"
          ],
          "name": "stdout"
        }
      ]
    },
    {
      "cell_type": "code",
      "metadata": {
        "colab": {
          "base_uri": "https://localhost:8080/"
        },
        "id": "CzAtM7dvUl4P",
        "outputId": "6ea92fd7-b235-4800-e4d5-bdfe786b1c69"
      },
      "source": [
        "print(y_train)"
      ],
      "execution_count": 52,
      "outputs": [
        {
          "output_type": "stream",
          "text": [
            "[0 1 0 0 1 1 0 1]\n"
          ],
          "name": "stdout"
        }
      ]
    },
    {
      "cell_type": "code",
      "metadata": {
        "colab": {
          "base_uri": "https://localhost:8080/"
        },
        "id": "R0BTS7V1Up9f",
        "outputId": "5fd64909-8895-47e3-d879-49680fb9be4a"
      },
      "source": [
        "print(y_test)"
      ],
      "execution_count": 53,
      "outputs": [
        {
          "output_type": "stream",
          "text": [
            "[0 1]\n"
          ],
          "name": "stdout"
        }
      ]
    },
    {
      "cell_type": "code",
      "metadata": {
        "id": "HWFBctr_V68d"
      },
      "source": [
        "from sklearn.preprocessing import StandardScaler\n",
        "sc = StandardScaler()\n",
        "x_train[:, 3:] = sc.fit_transform(x_train[:, 3:])\n",
        "x_test[:, 3:] = sc.transform(x_test[:, 3:])"
      ],
      "execution_count": 54,
      "outputs": []
    },
    {
      "cell_type": "code",
      "metadata": {
        "colab": {
          "base_uri": "https://localhost:8080/"
        },
        "id": "9wDkft3uXqoU",
        "outputId": "8e9971bb-e30b-48bd-bbbb-a35ddd53f587"
      },
      "source": [
        "print(x_train)"
      ],
      "execution_count": 55,
      "outputs": [
        {
          "output_type": "stream",
          "text": [
            "[[0.0 0.0 1.0 1.1475343068237058 -1.0781259408412425]\n",
            " [1.0 0.0 0.0 -0.014117293757057775 -0.07013167641635372]\n",
            " [0.0 1.0 0.0 0.5667085065333239 0.633562432710455]\n",
            " [0.0 0.0 1.0 -0.30453019390224867 -0.30786617274297867]\n",
            " [0.0 0.0 1.0 -1.9018011447007985 -1.420463615551582]\n",
            " [0.0 1.0 0.0 -0.19159184384578543 1.232653363453549]\n",
            " [1.0 0.0 0.0 1.4379472069688966 1.5749910381638885]\n",
            " [0.0 1.0 0.0 -0.740149544120035 -0.5646194287757332]]\n"
          ],
          "name": "stdout"
        }
      ]
    },
    {
      "cell_type": "code",
      "metadata": {
        "colab": {
          "base_uri": "https://localhost:8080/"
        },
        "id": "PZem6QmTXwhp",
        "outputId": "0b75f60c-5f3e-4688-a00f-0a6bc644e5d1"
      },
      "source": [
        "print(x_test)"
      ],
      "execution_count": 56,
      "outputs": [
        {
          "output_type": "stream",
          "text": [
            "[[1.0 0.0 0.0 -1.4661817944830122 -0.9069571034860727]\n",
            " [0.0 1.0 0.0 -0.4497366439748441 0.2056403393225306]]\n"
          ],
          "name": "stdout"
        }
      ]
    }
  ]
}