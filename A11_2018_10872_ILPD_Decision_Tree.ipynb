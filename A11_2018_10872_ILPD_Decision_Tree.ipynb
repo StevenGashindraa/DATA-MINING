{
  "nbformat": 4,
  "nbformat_minor": 0,
  "metadata": {
    "colab": {
      "name": "A11.2018.10872 ILPD Decision Tree.ipynb",
      "provenance": [],
      "collapsed_sections": []
    },
    "kernelspec": {
      "name": "python3",
      "display_name": "Python 3"
    },
    "language_info": {
      "name": "python"
    }
  },
  "cells": [
    {
      "cell_type": "code",
      "metadata": {
        "id": "OxTn4Mp7AmzO"
      },
      "source": [
        "import numpy as np\n",
        "import pandas as pd\n",
        "from sklearn import tree\n",
        "from sklearn.impute import SimpleImputer"
      ],
      "execution_count": null,
      "outputs": []
    },
    {
      "cell_type": "code",
      "metadata": {
        "id": "FACak1jIA8O3"
      },
      "source": [
        "#membaca dataset dari file ke Pandas dataFrame\n",
        "ILPDdataset = pd.read_csv('ILPD.csv', delimiter=';', header=0)\n",
        "x = ILPDdataset.iloc[:, :-1].values\n",
        "y = ILPDdataset.iloc[:, -1].values"
      ],
      "execution_count": null,
      "outputs": []
    },
    {
      "cell_type": "code",
      "metadata": {
        "colab": {
          "base_uri": "https://localhost:8080/",
          "height": 206
        },
        "id": "SUxHaEewr5hI",
        "outputId": "714ebfca-568b-4c51-8822-22a9a84e2067"
      },
      "source": [
        "ILPDdataset.head()"
      ],
      "execution_count": null,
      "outputs": [
        {
          "output_type": "execute_result",
          "data": {
            "text/html": [
              "<div>\n",
              "<style scoped>\n",
              "    .dataframe tbody tr th:only-of-type {\n",
              "        vertical-align: middle;\n",
              "    }\n",
              "\n",
              "    .dataframe tbody tr th {\n",
              "        vertical-align: top;\n",
              "    }\n",
              "\n",
              "    .dataframe thead th {\n",
              "        text-align: right;\n",
              "    }\n",
              "</style>\n",
              "<table border=\"1\" class=\"dataframe\">\n",
              "  <thead>\n",
              "    <tr style=\"text-align: right;\">\n",
              "      <th></th>\n",
              "      <th>Age</th>\n",
              "      <th>Gender</th>\n",
              "      <th>TB</th>\n",
              "      <th>DB</th>\n",
              "      <th>Alkphos</th>\n",
              "      <th>Sgpt</th>\n",
              "      <th>Sgot</th>\n",
              "      <th>TP</th>\n",
              "      <th>ALB</th>\n",
              "      <th>A/G Ratio</th>\n",
              "      <th>Indication</th>\n",
              "    </tr>\n",
              "  </thead>\n",
              "  <tbody>\n",
              "    <tr>\n",
              "      <th>0</th>\n",
              "      <td>65</td>\n",
              "      <td>Female</td>\n",
              "      <td>7</td>\n",
              "      <td>1</td>\n",
              "      <td>187</td>\n",
              "      <td>16</td>\n",
              "      <td>18</td>\n",
              "      <td>68</td>\n",
              "      <td>33</td>\n",
              "      <td>9.0</td>\n",
              "      <td>Liver</td>\n",
              "    </tr>\n",
              "    <tr>\n",
              "      <th>1</th>\n",
              "      <td>62</td>\n",
              "      <td>Male</td>\n",
              "      <td>109</td>\n",
              "      <td>55</td>\n",
              "      <td>699</td>\n",
              "      <td>64</td>\n",
              "      <td>100</td>\n",
              "      <td>75</td>\n",
              "      <td>32</td>\n",
              "      <td>74.0</td>\n",
              "      <td>Liver</td>\n",
              "    </tr>\n",
              "    <tr>\n",
              "      <th>2</th>\n",
              "      <td>62</td>\n",
              "      <td>Male</td>\n",
              "      <td>73</td>\n",
              "      <td>41</td>\n",
              "      <td>490</td>\n",
              "      <td>60</td>\n",
              "      <td>68</td>\n",
              "      <td>7</td>\n",
              "      <td>33</td>\n",
              "      <td>89.0</td>\n",
              "      <td>Liver</td>\n",
              "    </tr>\n",
              "    <tr>\n",
              "      <th>3</th>\n",
              "      <td>58</td>\n",
              "      <td>Male</td>\n",
              "      <td>1</td>\n",
              "      <td>4</td>\n",
              "      <td>182</td>\n",
              "      <td>14</td>\n",
              "      <td>20</td>\n",
              "      <td>68</td>\n",
              "      <td>34</td>\n",
              "      <td>1.0</td>\n",
              "      <td>Liver</td>\n",
              "    </tr>\n",
              "    <tr>\n",
              "      <th>4</th>\n",
              "      <td>72</td>\n",
              "      <td>Male</td>\n",
              "      <td>39</td>\n",
              "      <td>2</td>\n",
              "      <td>195</td>\n",
              "      <td>27</td>\n",
              "      <td>59</td>\n",
              "      <td>73</td>\n",
              "      <td>24</td>\n",
              "      <td>4.0</td>\n",
              "      <td>Liver</td>\n",
              "    </tr>\n",
              "  </tbody>\n",
              "</table>\n",
              "</div>"
            ],
            "text/plain": [
              "   Age  Gender   TB  DB  Alkphos  Sgpt  Sgot  TP  ALB  A/G Ratio Indication\n",
              "0   65  Female    7   1      187    16    18  68   33        9.0      Liver\n",
              "1   62    Male  109  55      699    64   100  75   32       74.0      Liver\n",
              "2   62    Male   73  41      490    60    68   7   33       89.0      Liver\n",
              "3   58    Male    1   4      182    14    20  68   34        1.0      Liver\n",
              "4   72    Male   39   2      195    27    59  73   24        4.0      Liver"
            ]
          },
          "metadata": {
            "tags": []
          },
          "execution_count": 373
        }
      ]
    },
    {
      "cell_type": "code",
      "metadata": {
        "id": "YLoiBJNhBOyi"
      },
      "source": [
        "#Mengubah kelas (kolom indication dan gender dari string ke Unqiue)\n",
        "ILPDdataset[\"Indication\"] = pd.factorize(ILPDdataset.Indication)[0]\n",
        "ILPDdataset[\"Gender\"] = pd.factorize(ILPDdataset.Gender)[0]"
      ],
      "execution_count": null,
      "outputs": []
    },
    {
      "cell_type": "code",
      "metadata": {
        "colab": {
          "base_uri": "https://localhost:8080/"
        },
        "id": "eKjiWDGJTL8N",
        "outputId": "aff110cd-8649-4b34-80d5-5d62cf3a3e00"
      },
      "source": [
        "print(x)"
      ],
      "execution_count": null,
      "outputs": [
        {
          "output_type": "stream",
          "text": [
            "[[65 'Female' 7 ... 68 33 9.0]\n",
            " [62 'Male' 109 ... 75 32 74.0]\n",
            " [62 'Male' 73 ... 7 33 89.0]\n",
            " ...\n",
            " [52 'Male' 8 ... 64 32 1.0]\n",
            " [31 'Male' 13 ... 68 34 1.0]\n",
            " [38 'Male' 1 ... 73 44 15.0]]\n"
          ],
          "name": "stdout"
        }
      ]
    },
    {
      "cell_type": "code",
      "metadata": {
        "id": "8GdWt9qJKxk0",
        "colab": {
          "base_uri": "https://localhost:8080/"
        },
        "outputId": "df034ea4-cf1b-4714-bd3e-cf2f35473a5c"
      },
      "source": [
        "print(ILPDdataset)"
      ],
      "execution_count": null,
      "outputs": [
        {
          "output_type": "stream",
          "text": [
            "     Age  Gender   TB  DB  Alkphos  Sgpt  Sgot  TP  ALB  A/G Ratio  Indication\n",
            "0     65       0    7   1      187    16    18  68   33        9.0           0\n",
            "1     62       1  109  55      699    64   100  75   32       74.0           0\n",
            "2     62       1   73  41      490    60    68   7   33       89.0           0\n",
            "3     58       1    1   4      182    14    20  68   34        1.0           0\n",
            "4     72       1   39   2      195    27    59  73   24        4.0           0\n",
            "..   ...     ...  ...  ..      ...   ...   ...  ..  ...        ...         ...\n",
            "578   60       1    5   1      500    20    34  59   16       37.0           1\n",
            "579   40       1    6   1       98    35    31   6   32       11.0           0\n",
            "580   52       1    8   2      245    48    49  64   32        1.0           0\n",
            "581   31       1   13   5      184    29    32  68   34        1.0           0\n",
            "582   38       1    1   3      216    21    24  73   44       15.0           1\n",
            "\n",
            "[583 rows x 11 columns]\n"
          ],
          "name": "stdout"
        }
      ]
    },
    {
      "cell_type": "code",
      "metadata": {
        "id": "HRPEEgA4K4Gt"
      },
      "source": [
        "#Mengubah dataFrame ke array Numpy\n",
        "ILPDdataset = ILPDdataset.to_numpy()"
      ],
      "execution_count": null,
      "outputs": []
    },
    {
      "cell_type": "code",
      "metadata": {
        "id": "B7I6yoB6UmLz"
      },
      "source": [
        "#Menghilangkan Missing value\n",
        "imputer = SimpleImputer(missing_values=np.nan, strategy='mean')\n",
        "imputer.fit(ILPDdataset[:, 0:10])\n",
        "ILPDdataset[:, 0:10] = imputer.transform(ILPDdataset[:, 0:10])"
      ],
      "execution_count": null,
      "outputs": []
    },
    {
      "cell_type": "code",
      "metadata": {
        "colab": {
          "base_uri": "https://localhost:8080/"
        },
        "id": "Sd3OEJbS2nlZ",
        "outputId": "fcda410e-e02a-4e5c-8a07-319f9bac9d04"
      },
      "source": [
        "print(ILPDdataset)"
      ],
      "execution_count": null,
      "outputs": [
        {
          "output_type": "stream",
          "text": [
            "[[ 65.   0.   7. ...  33.   9.   0.]\n",
            " [ 62.   1. 109. ...  32.  74.   0.]\n",
            " [ 62.   1.  73. ...  33.  89.   0.]\n",
            " ...\n",
            " [ 52.   1.   8. ...  32.   1.   0.]\n",
            " [ 31.   1.  13. ...  34.   1.   0.]\n",
            " [ 38.   1.   1. ...  44.  15.   1.]]\n"
          ],
          "name": "stdout"
        }
      ]
    },
    {
      "cell_type": "code",
      "metadata": {
        "id": "1W-c8H7gLB0e"
      },
      "source": [
        "#Membagi dataset 466 baris data untuk training dan 117 baris data untuk testing\n",
        "dataTraining = np.concatenate((ILPDdataset[0:233,:],\n",
        "                               ILPDdataset[290:523]), axis=0)\n",
        "dataTesting = np.concatenate((ILPDdataset[233:290,:],\n",
        "                               ILPDdataset[523:583]), axis=0)"
      ],
      "execution_count": null,
      "outputs": []
    },
    {
      "cell_type": "code",
      "metadata": {
        "colab": {
          "base_uri": "https://localhost:8080/"
        },
        "id": "kPsaU_sH9n5F",
        "outputId": "9b7ad25d-1220-4153-bd13-01bdf057295a"
      },
      "source": [
        "print(dataTraining)\n",
        "len(dataTraining)\n"
      ],
      "execution_count": null,
      "outputs": [
        {
          "output_type": "stream",
          "text": [
            "[[ 65.   0.   7. ...  33.   9.   0.]\n",
            " [ 62.   1. 109. ...  32.  74.   0.]\n",
            " [ 62.   1.  73. ...  33.  89.   0.]\n",
            " ...\n",
            " [ 62.   1.  18. ...   4.   8.   0.]\n",
            " [ 55.   1.  44. ...  21.   4.   0.]\n",
            " [ 46.   0.   8. ...  37.   8.   0.]]\n"
          ],
          "name": "stdout"
        },
        {
          "output_type": "execute_result",
          "data": {
            "text/plain": [
              "466"
            ]
          },
          "metadata": {
            "tags": []
          },
          "execution_count": 383
        }
      ]
    },
    {
      "cell_type": "code",
      "metadata": {
        "id": "DNigywMELXcd",
        "colab": {
          "base_uri": "https://localhost:8080/"
        },
        "outputId": "b5e3e076-55ea-4ff1-d0ce-cf0e294c5bb1"
      },
      "source": [
        "inputTraining = dataTraining[:,0:10]\n",
        "inputTesting = dataTesting[:,0:10]\n",
        "labelTraining = dataTraining[:,10]\n",
        "labelTesting = dataTesting[:,10]\n",
        "print(labelTraining)\n",
        "len(labelTraining)"
      ],
      "execution_count": null,
      "outputs": [
        {
          "output_type": "stream",
          "text": [
            "[0. 0. 0. 0. 0. 0. 0. 0. 1. 0. 0. 0. 1. 0. 0. 1. 0. 1. 0. 0. 0. 0. 0. 0.\n",
            " 1. 0. 0. 0. 1. 1. 0. 0. 1. 1. 1. 0. 1. 0. 0. 0. 0. 1. 1. 0. 1. 1. 0. 0.\n",
            " 0. 0. 0. 0. 0. 0. 0. 0. 1. 1. 0. 1. 0. 0. 0. 0. 0. 0. 0. 0. 0. 1. 0. 0.\n",
            " 0. 0. 0. 1. 0. 0. 1. 0. 0. 0. 1. 0. 0. 0. 1. 0. 0. 0. 0. 0. 0. 0. 0. 0.\n",
            " 0. 0. 0. 0. 1. 1. 0. 1. 0. 1. 1. 1. 1. 1. 1. 0. 1. 0. 1. 1. 0. 0. 0. 0.\n",
            " 0. 0. 1. 0. 1. 1. 0. 0. 0. 0. 0. 1. 1. 0. 0. 0. 0. 0. 0. 0. 1. 0. 0. 0.\n",
            " 0. 1. 0. 0. 0. 0. 1. 0. 0. 1. 0. 0. 0. 0. 0. 0. 0. 0. 0. 0. 0. 0. 0. 0.\n",
            " 0. 0. 0. 0. 0. 0. 0. 0. 0. 0. 0. 0. 0. 0. 1. 0. 0. 1. 0. 0. 0. 1. 0. 0.\n",
            " 0. 1. 1. 0. 0. 0. 1. 0. 0. 0. 1. 1. 1. 0. 0. 0. 0. 0. 0. 0. 1. 0. 0. 1.\n",
            " 1. 0. 1. 0. 0. 0. 0. 1. 0. 0. 0. 0. 1. 0. 1. 0. 0. 0. 1. 0. 1. 0. 0. 0.\n",
            " 1. 0. 1. 1. 0. 0. 1. 0. 1. 0. 0. 0. 0. 0. 0. 1. 1. 0. 1. 1. 0. 0. 1. 0.\n",
            " 0. 0. 1. 0. 1. 1. 1. 1. 1. 0. 0. 0. 1. 0. 0. 0. 0. 0. 0. 0. 0. 1. 0. 1.\n",
            " 0. 0. 0. 0. 1. 0. 0. 0. 0. 0. 1. 0. 0. 0. 1. 0. 1. 1. 1. 1. 1. 1. 1. 0.\n",
            " 0. 0. 1. 0. 1. 1. 0. 0. 1. 0. 1. 0. 0. 0. 1. 0. 0. 1. 0. 0. 0. 0. 0. 0.\n",
            " 0. 0. 1. 0. 0. 0. 0. 1. 0. 0. 1. 0. 0. 1. 0. 0. 0. 0. 1. 0. 1. 1. 0. 0.\n",
            " 1. 0. 0. 0. 1. 0. 1. 0. 0. 1. 0. 1. 0. 0. 1. 0. 1. 1. 1. 0. 0. 0. 0. 0.\n",
            " 0. 0. 0. 1. 1. 0. 0. 0. 0. 0. 0. 0. 0. 1. 0. 1. 1. 0. 0. 0. 0. 0. 0. 1.\n",
            " 1. 1. 1. 0. 0. 0. 1. 1. 1. 1. 1. 0. 0. 0. 0. 1. 0. 0. 1. 0. 0. 0. 0. 1.\n",
            " 1. 0. 1. 0. 1. 0. 1. 0. 0. 0. 0. 0. 0. 0. 0. 0. 0. 0. 0. 0. 0. 1. 0. 1.\n",
            " 0. 0. 0. 0. 0. 0. 0. 0. 0. 0.]\n"
          ],
          "name": "stdout"
        },
        {
          "output_type": "execute_result",
          "data": {
            "text/plain": [
              "466"
            ]
          },
          "metadata": {
            "tags": []
          },
          "execution_count": 384
        }
      ]
    },
    {
      "cell_type": "code",
      "metadata": {
        "id": "ky9ty1UsMqJ5"
      },
      "source": [
        "model = tree.DecisionTreeClassifier()"
      ],
      "execution_count": null,
      "outputs": []
    },
    {
      "cell_type": "code",
      "metadata": {
        "id": "i5e7UyKLMtpt"
      },
      "source": [
        "model = model.fit(inputTraining, labelTraining)"
      ],
      "execution_count": null,
      "outputs": []
    },
    {
      "cell_type": "code",
      "metadata": {
        "colab": {
          "base_uri": "https://localhost:8080/"
        },
        "id": "yLvYfvC1Mx_N",
        "outputId": "3fb634c9-eba4-44e1-f659-63a45d5d7384"
      },
      "source": [
        "hasilPrediksi = model.predict(inputTesting)\n",
        "print(\"label sebenarnya \", labelTesting)\n",
        "print(\"hasil prediksi :\",hasilPrediksi)"
      ],
      "execution_count": null,
      "outputs": [
        {
          "output_type": "stream",
          "text": [
            "label sebenarnya  [0. 0. 0. 1. 0. 1. 0. 1. 0. 0. 0. 0. 0. 0. 0. 0. 0. 0. 0. 1. 1. 1. 0. 0.\n",
            " 0. 1. 0. 0. 0. 0. 0. 1. 1. 0. 0. 0. 0. 0. 1. 0. 0. 0. 1. 1. 0. 0. 0. 0.\n",
            " 1. 0. 1. 0. 0. 0. 1. 0. 0. 0. 1. 1. 0. 0. 0. 0. 1. 0. 1. 0. 1. 0. 0. 0.\n",
            " 0. 1. 1. 1. 1. 0. 0. 1. 0. 0. 0. 0. 0. 1. 0. 0. 0. 0. 0. 0. 0. 0. 0. 0.\n",
            " 0. 0. 1. 0. 1. 0. 0. 0. 0. 0. 0. 0. 0. 0. 0. 0. 1. 0. 0. 0. 1.]\n",
            "hasil prediksi : [1. 0. 0. 0. 0. 0. 1. 0. 0. 1. 1. 0. 0. 0. 0. 0. 0. 0. 0. 0. 1. 0. 0. 0.\n",
            " 0. 0. 0. 0. 0. 0. 1. 0. 1. 1. 1. 0. 0. 1. 0. 0. 0. 1. 0. 1. 0. 1. 0. 0.\n",
            " 1. 1. 1. 0. 1. 0. 1. 0. 0. 1. 1. 0. 0. 0. 0. 0. 1. 0. 1. 0. 0. 0. 0. 1.\n",
            " 0. 0. 0. 1. 1. 1. 0. 0. 0. 0. 0. 0. 0. 1. 1. 0. 0. 0. 0. 0. 0. 0. 0. 0.\n",
            " 0. 0. 0. 0. 0. 0. 0. 0. 0. 1. 0. 0. 0. 0. 0. 1. 0. 0. 0. 0. 0.]\n"
          ],
          "name": "stdout"
        }
      ]
    },
    {
      "cell_type": "code",
      "metadata": {
        "colab": {
          "base_uri": "https://localhost:8080/"
        },
        "id": "RrO2IjIPNHpe",
        "outputId": "6b5ba4fd-8969-483c-d031-f3e9761e1f77"
      },
      "source": [
        "prediksiBenar = (hasilPrediksi == labelTesting).sum()\n",
        "prediksiSalah = (hasilPrediksi != labelTesting).sum()\n",
        "print(\"prediksi benar: \", prediksiBenar,\"data\")\n",
        "print(\"prediksi salah: \", prediksiSalah,\"data\")\n",
        "print(\"akurasi:\", prediksiBenar/(prediksiBenar+prediksiSalah)\n",
        "      * 100, \"%\")"
      ],
      "execution_count": null,
      "outputs": [
        {
          "output_type": "stream",
          "text": [
            "prediksi benar:  81 data\n",
            "prediksi salah:  36 data\n",
            "akurasi: 69.23076923076923 %\n"
          ],
          "name": "stdout"
        }
      ]
    }
  ]
}