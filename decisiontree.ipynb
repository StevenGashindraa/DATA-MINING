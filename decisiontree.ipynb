{
  "nbformat": 4,
  "nbformat_minor": 0,
  "metadata": {
    "colab": {
      "name": "decisiontree.ipynb",
      "provenance": [],
      "collapsed_sections": []
    },
    "kernelspec": {
      "name": "python3",
      "display_name": "Python 3"
    },
    "language_info": {
      "name": "python"
    }
  },
  "cells": [
    {
      "cell_type": "code",
      "metadata": {
        "id": "OxTn4Mp7AmzO"
      },
      "source": [
        "import numpy as np\n",
        "import pandas as pd\n",
        "from sklearn import tree"
      ],
      "execution_count": 1,
      "outputs": []
    },
    {
      "cell_type": "code",
      "metadata": {
        "id": "FACak1jIA8O3"
      },
      "source": [
        "irisDataset = pd.read_csv('data_iris.csv', delimiter=';', header=0)"
      ],
      "execution_count": 5,
      "outputs": []
    },
    {
      "cell_type": "code",
      "metadata": {
        "id": "YLoiBJNhBOyi"
      },
      "source": [
        "irisDataset[\"Species\"] = pd.factorize(irisDataset.Species)[0]"
      ],
      "execution_count": 7,
      "outputs": []
    },
    {
      "cell_type": "code",
      "metadata": {
        "id": "8GdWt9qJKxk0"
      },
      "source": [
        "irisDataset = irisDataset.drop(labels=\"Id\", axis=1)"
      ],
      "execution_count": 8,
      "outputs": []
    },
    {
      "cell_type": "code",
      "metadata": {
        "id": "HRPEEgA4K4Gt"
      },
      "source": [
        "irisDataset = irisDataset.to_numpy()"
      ],
      "execution_count": 9,
      "outputs": []
    },
    {
      "cell_type": "code",
      "metadata": {
        "id": "1W-c8H7gLB0e"
      },
      "source": [
        "dataTraining = np.concatenate((irisDataset[0:40,:],\n",
        "                               irisDataset[50:90]), axis=0)\n",
        "dataTesting = np.concatenate((irisDataset[40:50,:],\n",
        "                               irisDataset[90:100]), axis=0)"
      ],
      "execution_count": 10,
      "outputs": []
    },
    {
      "cell_type": "code",
      "metadata": {
        "id": "DNigywMELXcd"
      },
      "source": [
        "inputTraining = dataTraining[:,0:4]\n",
        "inputTesting = dataTesting[:,0:4]\n",
        "labelTraining = dataTraining[:,4]\n",
        "labelTesting = dataTesting[:,4]"
      ],
      "execution_count": 11,
      "outputs": []
    },
    {
      "cell_type": "code",
      "metadata": {
        "id": "ky9ty1UsMqJ5"
      },
      "source": [
        "model = tree.DecisionTreeClassifier()"
      ],
      "execution_count": 12,
      "outputs": []
    },
    {
      "cell_type": "code",
      "metadata": {
        "id": "i5e7UyKLMtpt"
      },
      "source": [
        "model = model.fit(inputTraining, labelTraining)"
      ],
      "execution_count": 13,
      "outputs": []
    },
    {
      "cell_type": "code",
      "metadata": {
        "colab": {
          "base_uri": "https://localhost:8080/"
        },
        "id": "yLvYfvC1Mx_N",
        "outputId": "764b0864-8763-4536-dbec-51b58228a7e1"
      },
      "source": [
        "hasilPrediksi = model.predict(inputTesting)\n",
        "print(\"label sebenarnya \", labelTesting)\n",
        "print(\"hasil prediksi :\",hasilPrediksi)"
      ],
      "execution_count": 14,
      "outputs": [
        {
          "output_type": "stream",
          "text": [
            "label sebenarnya  [0. 0. 0. 0. 0. 0. 0. 0. 0. 0. 1. 1. 1. 1. 1. 1. 1. 1. 1. 1.]\n",
            "hasil prediksi : [0. 0. 0. 0. 0. 0. 0. 0. 0. 0. 1. 1. 1. 1. 1. 1. 1. 1. 1. 1.]\n"
          ],
          "name": "stdout"
        }
      ]
    },
    {
      "cell_type": "code",
      "metadata": {
        "colab": {
          "base_uri": "https://localhost:8080/"
        },
        "id": "RrO2IjIPNHpe",
        "outputId": "998f50ff-e619-4e2f-cab8-51fd9f235e75"
      },
      "source": [
        "prediksiBenar = (hasilPrediksi == labelTesting).sum()\n",
        "prediksiSalah = (hasilPrediksi != labelTesting).sum()\n",
        "print(\"prediksi benar: \", prediksiBenar,\"data\")\n",
        "print(\"prediksi salah: \", prediksiSalah,\"data\")\n",
        "print(\"akurasi:\", prediksiBenar/(prediksiBenar+prediksiSalah)\n",
        "      * 100, \"%\")"
      ],
      "execution_count": 18,
      "outputs": [
        {
          "output_type": "stream",
          "text": [
            "prediksi benar:  20 data\n",
            "prediksi salah:  0 data\n",
            "akurasi: 100.0 %\n"
          ],
          "name": "stdout"
        }
      ]
    }
  ]
}